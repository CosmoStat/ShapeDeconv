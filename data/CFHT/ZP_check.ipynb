{
 "cells": [
  {
   "cell_type": "markdown",
   "metadata": {},
   "source": [
    "# Check CFHT Zero Point Value\n",
    "\n",
    "## Theoretical Background\n",
    "\n",
    "The Zero Point value (in ADU/sec) for the `r` filter in the [CFHT specifications page](https://www.cfht.hawaii.edu/Instruments/Imaging/Megacam/generalinformation.html) is 26.22 and it seems to be over estimated. In the [LSST GitHub code](https://github.com/LSSTDESC/WeakLensingDeblending/blob/9f851f79f6f820f815528d11acabf64083b6e111/descwl/survey.py#L288) it is recomputed and its new value is 10.72.\n",
    "\n",
    "In the following we are going to recompute the Zero Point value using the formulas in the [LSST GitHub issue #1](https://github.com/LSSTDESC/WeakLensingDeblending/issues/1).\n",
    "\n",
    "We have:\n",
    "\n",
    "\\begin{equation}\n",
    "z_p = m_0+2.5 \\log_{10}(s_0[R,m_0]) \\quad,\n",
    "\\end{equation}\n",
    "\n",
    "where $z_p$ is the Zero Point AB magnitude, $m_0$ is a fiducial source of AB magnitude of value 24 and $s_0[R,m_0]$ the corresponding flux, such that:\n",
    "\n",
    "\\begin{equation}\n",
    "s_0[R,m_0]=s[f_{AB},R]\\cdot 10^{-0.4m_0} \\quad,\n",
    "\\end{equation}\n",
    "\n",
    "with $s[f_{AB},R]$ is defined as:\n",
    "\n",
    "\\begin{equation}\n",
    "s[f_{AB},R]=A \\int_0^{+\\infty}f(\\lambda)\\cdot\\frac{\\lambda}{hc}\\cdot R(\\lambda) d\\lambda \\quad ,\n",
    "\\end{equation}\n",
    "\n",
    "here $A=8.022$ is telescope effective area in $m^2$, $f(\\lambda)=f_{AB}(\\lambda)=1.08855 \\cdot 10^{-5} (J/s/m^2/nm)$, $h$ is the Planck constant, $c$ is the speed of light and $\\lambda$ (in nm) and $R(\\lambda)$ value are given in the R.MP9602 third generation [filter response table](http://www.cadc-ccda.hia-iha.nrc-cnrc.gc.ca/en/megapipe/docs/filt.html).\n",
    "\n",
    "## Numerical Application\n",
    "\n",
    "First, extract and convert $\\lambda$ and $R(\\lambda)$ values, load other constants and compute $s[f_{AB},R]$.\n",
    "> In the table, $\\lambda$ values are in Angstroms and should be converted to nm."
   ]
  },
  {
   "cell_type": "code",
   "execution_count": 1,
   "metadata": {},
   "outputs": [
    {
     "name": "stdout",
     "output_type": "stream",
     "text": [
      "The value of s[f_AB,R] is 5.155817453958427e+19\n"
     ]
    }
   ],
   "source": [
    "import numpy as np\n",
    "from scipy.constants import h,c\n",
    "\n",
    "file_name = 'r_lambda.txt'\n",
    "lamb, r = np.loadtxt(file_name, unpack=True)\n",
    "lamb /= 10 #convert from Angstrom to nm\n",
    "m0 = 24\n",
    "f = 1.08855/(lamb**2) * 10 ** (-5) # J/s/m^2/nm^-1\n",
    "A = 8.022 #m^2\n",
    "\n",
    "# use the  trapezoidal rule to perform a numerical integration\n",
    "sAB = A * np.trapz(f*lamb*r/(h*c), lamb)\n",
    "\n",
    "print(r'The value of s[f_AB,R] is {}'.format(np.format_float_scientific(sAB)))"
   ]
  },
  {
   "cell_type": "markdown",
   "metadata": {},
   "source": [
    "Deduce the values of $s_0[R,m_0]$ then $z_p$."
   ]
  },
  {
   "cell_type": "code",
   "execution_count": 2,
   "metadata": {},
   "outputs": [
    {
     "name": "stdout",
     "output_type": "stream",
     "text": [
      "The value of s_0[R, m_0] is 1.2950827905938398e+10\n",
      "The magnitude of the zero point is 4.928074383098289e+01\n"
     ]
    }
   ],
   "source": [
    "s0 = sAB * 10 ** (-0.4*m0)\n",
    "zp = m0 + 2.5*np.log10(s0)\n",
    "print(r'The value of s_0[R, m_0] is {}'.format(np.format_float_scientific(s0)))\n",
    "print(r'The magnitude of the zero point is {}'.format(np.format_float_scientific(zp)))"
   ]
  }
 ],
 "metadata": {
  "kernelspec": {
   "display_name": "Python 3",
   "language": "python",
   "name": "python3"
  },
  "language_info": {
   "codemirror_mode": {
    "name": "ipython",
    "version": 3
   },
   "file_extension": ".py",
   "mimetype": "text/x-python",
   "name": "python",
   "nbconvert_exporter": "python",
   "pygments_lexer": "ipython3",
   "version": "3.7.5"
  }
 },
 "nbformat": 4,
 "nbformat_minor": 4
}
