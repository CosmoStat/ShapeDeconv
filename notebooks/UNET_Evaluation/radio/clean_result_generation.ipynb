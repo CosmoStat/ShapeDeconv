{
 "cells": [
  {
   "cell_type": "markdown",
   "metadata": {},
   "source": [
    "# Generating CLEAN Results\n",
    "\n",
    "## Load environment"
   ]
  },
  {
   "cell_type": "code",
   "execution_count": 1,
   "metadata": {},
   "outputs": [],
   "source": [
    "%matplotlib inline\n",
    "import sys\n",
    "\n",
    "# Directories and paths\n",
    "lib_path = '/gpfswork/rech/xdy/uze68md/GitHub/'\n",
    "data_path = '/gpfswork/rech/xdy/uze68md/data/'\n",
    "model_dir = '/gpfswork/rech/xdy/uze68md/trained_models/model_cfht/'\n",
    "\n",
    "# Add library path to PYTHONPATH\n",
    "path_alphatransform = lib_path+'alpha-transform'\n",
    "path_score = lib_path+'score'\n",
    "path_clean = '/gpfswork/rech/xdy/uze68md/GitHub/ShapeDeconv/data/T-RECS/clean/'\n",
    "sys.path.insert(0, path_alphatransform)\n",
    "sys.path.insert(0, path_score)\n",
    "sys.path.insert(0, path_clean)\n",
    "\n",
    "# Function\n",
    "\n",
    "def sigma_mad(signal):\n",
    "    \"\"\"This function returns the estimate of the standard deviation of White\n",
    "    Additive Gaussian Noise using the Mean Absolute Deviation method (MAD).\n",
    "    INPUT: signal, Numpy Array\n",
    "    OUTPUT: sigma, scalar\"\"\"\n",
    "    sigma = 1.4826*np.median(np.abs(signal-np.median(signal)))\n",
    "    return sigma\n",
    "\n",
    "# Libraries\n",
    "from CLEAN3 import doCLEAN,gauss2D\n",
    "import matplotlib.pyplot as plt\n",
    "import seaborn as sns\n",
    "import numpy as np\n",
    "from scipy import fft\n",
    "import cadmos_lib as cl\n",
    "import tensorflow as tf\n",
    "import galsim\n",
    "from galsim import Image\n",
    "import galsim.hsm\n",
    "import galflow as gf\n",
    "from galaxy2galaxy import problems\n",
    "import pickle\n",
    "from cv2 import resize, INTER_AREA\n",
    "from scipy.signal import convolve"
   ]
  },
  {
   "cell_type": "markdown",
   "metadata": {},
   "source": [
    "## Load Data"
   ]
  },
  {
   "cell_type": "code",
   "execution_count": 2,
   "metadata": {},
   "outputs": [],
   "source": [
    "# Load Data\n",
    "f = open(data_path+\"meerkat_batch.pkl\", \"rb\")\n",
    "batch = pickle.load(f)\n",
    "f.close()\n",
    "\n",
    "# Normalize PSF by the max\n",
    "batch['psf'] = np.array([psf/np.max(psf) for psf in batch['psf']])\n",
    "\n",
    "n_batch, Nx, Ny = batch['targets'].shape"
   ]
  },
  {
   "cell_type": "markdown",
   "metadata": {},
   "source": [
    "## Apply CLEAN"
   ]
  },
  {
   "cell_type": "code",
   "execution_count": 3,
   "metadata": {
    "scrolled": false
   },
   "outputs": [
    {
     "name": "stdout",
     "output_type": "stream",
     "text": [
      "0\n",
      "n : 3\n",
      "100\n",
      "n : 3\n",
      "200\n",
      "n : 3\n",
      "300\n",
      "n : 3\n",
      "400\n",
      "n : 3\n",
      "500\n",
      "n : 3\n",
      "600\n",
      "n : 3\n",
      "700\n",
      "n : 3\n",
      "800\n",
      "n : 3\n",
      "900\n",
      "n : 3\n",
      "1000\n",
      "n : 3\n",
      "1100\n",
      "n : 3\n",
      "1200\n",
      "n : 3\n",
      "1300\n",
      "n : 3\n",
      "1400\n",
      "n : 3\n",
      "1500\n",
      "n : 3\n",
      "1600\n",
      "n : 3\n",
      "1700\n",
      "n : 3\n",
      "1800\n",
      "n : 3\n",
      "1900\n",
      "n : 3\n",
      "2000\n",
      "n : 3\n",
      "2100\n",
      "n : 2\n",
      "2200\n",
      "n : 3\n",
      "2300\n",
      "n : 3\n",
      "2400\n",
      "n : 3\n",
      "2500\n",
      "n : 3\n",
      "2600\n",
      "n : 3\n",
      "2700\n",
      "n : 3\n",
      "2800\n",
      "n : 3\n",
      "2900\n",
      "n : 3\n",
      "3000\n",
      "n : 3\n"
     ]
    }
   ],
   "source": [
    "restored,restorednores,residual,skymodelimg = np.zeros((4,n_batch,Nx,Ny))\n",
    "skymodellist = []\n",
    "sigma_flags = np.ones(n_batch,dtype=bool)\n",
    "for i in range(n_batch):\n",
    "    # running CLEAN\n",
    "    sigma_im = sigma_mad(batch['inputs'][i])\n",
    "    n=3\n",
    "    while np.max(batch['inputs'][i])<n*sigma_im:\n",
    "        n = n-1\n",
    "        sigma_flags[i] = False\n",
    "    if  i%100 == 0:\n",
    "        print(i)\n",
    "        print('n :',n)\n",
    "    restored[i],restorednores[i],residual[i],skymodellist_temp,skymodelimg[i]=doCLEAN(batch['inputs'][i],batch['psf'][i],gain=0.1,niter=5000,fthresh=n*sigma_im)\n",
    "    skymodellist += [skymodellist_temp]"
   ]
  },
  {
   "cell_type": "markdown",
   "metadata": {},
   "source": [
    "## Reconstruct with a Gaussian PSF"
   ]
  },
  {
   "cell_type": "code",
   "execution_count": 4,
   "metadata": {},
   "outputs": [],
   "source": [
    "# Generate isotropic Gaussian PSF\n",
    "# preparing gridding\n",
    "imsize = 128\n",
    "x=np.arange(0,imsize)-imsize//2\n",
    "y=np.arange(0,imsize)-imsize//2\n",
    "xx,yy=np.meshgrid(x,y)\n",
    "gauss_iso = gauss2D(xx,yy,1,0,0,2,0.,0.)  # gridx, gridy, amp, meanx, meany, std, e1, e2\n",
    "\n",
    "# normalize Gaussian PSF with the flux of the PSF\n",
    "gauss_psf = np.array([gauss_iso / gauss_iso.sum() * psf.sum() for psf in batch['psf']])\n",
    "\n",
    "restored_iso = np.array([convolve(sm,psf,'same') for sm,psf in zip(skymodelimg,gauss_psf)])"
   ]
  },
  {
   "cell_type": "markdown",
   "metadata": {},
   "source": [
    "## Build Result Dictionnary"
   ]
  },
  {
   "cell_type": "code",
   "execution_count": 5,
   "metadata": {},
   "outputs": [],
   "source": [
    "keys = ['restored_residual', 'restored', 'restored_isotropic', 'residual', 'skymodel', 'skymodel_list', 'sigma_flags']\n",
    "values = [restored,restorednores,restored_iso,residual,skymodelimg,skymodellist,sigma_flags]\n",
    "\n",
    "results = {}\n",
    "\n",
    "for key,value in zip(keys,values):\n",
    "    results[key] = value"
   ]
  },
  {
   "cell_type": "markdown",
   "metadata": {},
   "source": [
    "## Save Result Dictionnary"
   ]
  },
  {
   "cell_type": "code",
   "execution_count": 6,
   "metadata": {},
   "outputs": [],
   "source": [
    "f = open(data_path+\"clean_results.pkl\",\"wb\")\n",
    "pickle.dump(results,f)\n",
    "f.close()"
   ]
  }
 ],
 "metadata": {
  "kernelspec": {
   "display_name": "Python 3",
   "language": "python",
   "name": "python3"
  },
  "language_info": {
   "codemirror_mode": {
    "name": "ipython",
    "version": 3
   },
   "file_extension": ".py",
   "mimetype": "text/x-python",
   "name": "python",
   "nbconvert_exporter": "python",
   "pygments_lexer": "ipython3",
   "version": "3.7.5"
  }
 },
 "nbformat": 4,
 "nbformat_minor": 4
}
