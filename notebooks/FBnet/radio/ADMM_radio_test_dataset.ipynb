{
 "cells": [
  {
   "cell_type": "code",
   "execution_count": 1,
   "metadata": {},
   "outputs": [
    {
     "data": {
      "text/plain": [
       "True"
      ]
     },
     "execution_count": 1,
     "metadata": {},
     "output_type": "execute_result"
    }
   ],
   "source": [
    "%matplotlib inline\n",
    "import sys\n",
    "\n",
    "# Directories and paths\n",
    "lib_path = '/gpfswork/rech/xdy/uze68md/GitHub/'\n",
    "data_path = '/gpfswork/rech/xdy/uze68md/data/'\n",
    "model_dir = '/gpfswork/rech/xdy/uze68md/trained_models/model_meerkat/'\n",
    "\n",
    "# Add library path to PYTHONPATH\n",
    "path_alphatransform = lib_path+'alpha-transform'\n",
    "path_score = lib_path+'score'\n",
    "sys.path.insert(0, path_alphatransform)\n",
    "sys.path.insert(0, path_score)\n",
    "\n",
    "import numpy as np\n",
    "import matplotlib.pyplot as plt\n",
    "from mpl_toolkits.axes_grid1 import make_axes_locatable\n",
    "from scipy import fft\n",
    "from galaxy2galaxy import problems\n",
    "import tensorflow as tf\n",
    "import galflow as gf\n",
    "from scipy.signal import convolve\n",
    "import cadmos_lib as cl\n",
    "import pickle\n",
    "\n",
    "tf.enable_eager_execution()\n",
    "\n",
    "tf.version.VERSION\n",
    "\n",
    "tf.executing_eagerly()"
   ]
  },
  {
   "cell_type": "code",
   "execution_count": 2,
   "metadata": {},
   "outputs": [],
   "source": [
    "f = open(data_path+\"meerkat_batch.pkl\", \"rb\")\n",
    "batch = pickle.load(f)\n",
    "f.close()"
   ]
  },
  {
   "cell_type": "code",
   "execution_count": 3,
   "metadata": {},
   "outputs": [],
   "source": [
    "model_name = 'unet_scales-4_steps-6500_epochs-20_growth_rate-12_batch_size-32_activationfunction-relu'\n",
    "model = tf.keras.models.load_model(model_dir + model_name)#, compile=False)"
   ]
  },
  {
   "cell_type": "code",
   "execution_count": 67,
   "metadata": {},
   "outputs": [
    {
     "name": "stderr",
     "output_type": "stream",
     "text": [
      "/gpfswork/rech/xdy/uze68md/GitHub/score/cadmos_lib.py:104: ComplexWarning: Casting complex values to real discards the imaginary part\n",
      "  coeff[s] = trafo.adjoint_transform(temp, do_norm=False)\n"
     ]
    }
   ],
   "source": [
    "# SET SCORE PARAMETERS\n",
    "\n",
    "gamma_loss = 0\n",
    "n_row = batch['inputs'].shape[-2]\n",
    "n_col = batch['inputs'].shape[-1]\n",
    "n_shearlet = 3\n",
    "n_maps = 100\n",
    "\n",
    "U = cl.makeUi(n_row,n_col)\n",
    "_,shearlets_adj = cl.get_shearlets(n_row\n",
    "                                   ,n_col\n",
    "                                   ,n_shearlet)\n",
    "#Adjoint shealret transform of U, i.e Psi^{Star}(U)\n",
    "psu = np.array([cl.convolve_stack(ui,shearlets_adj) for ui in U])\n",
    "mu = cl.comp_mu(psu)"
   ]
  },
  {
   "cell_type": "code",
   "execution_count": 85,
   "metadata": {},
   "outputs": [],
   "source": [
    "def comp_grad(R,adj_U,mu,gamma):\n",
    "    \"\"\"This function returns the gradient of the differentiable part of the\n",
    "    loss function.\n",
    "    INPUT: R, 2D numpy array (residual)\n",
    "           adj_U, 3D numpy array (adjoint shearlet transform of U)\n",
    "           mu, 1D numpy array (weights associated to adj_U)\n",
    "           gamma, scalar (trade-off between data-fidelity and shape constraint)\n",
    "    OUTPUT: 2D numpy array\"\"\"\n",
    "    temp = tf.zeros(R.shape,dtype=tf.dtypes.float32)\n",
    "    for m,u in zip(mu,adj_U):\n",
    "        for cst,im in zip(m,u):\n",
    "            temp += cst*tf.keras.backend.sum(R*im)*im\n",
    "    temp = gamma * temp + R\n",
    "    return 2*temp\n",
    "\n",
    "def unet(x):\n",
    "    res = np.expand_dims(np.expand_dims(x, axis=0), axis=-1)\n",
    "    res = tf.keras.backend.eval(np.squeeze(model(res)))\n",
    "    return res"
   ]
  },
  {
   "cell_type": "code",
   "execution_count": 86,
   "metadata": {},
   "outputs": [],
   "source": [
    "def eigenvalue(Op, v):\n",
    "    \"\"\"This function returns the scalar product of v and Op(v).\n",
    "    INPUT: Op, function\n",
    "           v, numpy array\n",
    "    OUTPUT: scalar\"\"\"\n",
    "    Op_v = Op(v)\n",
    "    return (v*Op_v).sum()\n",
    "\n",
    "def power_iteration(Op, output_dim,epsilon=0.001):\n",
    "    \"\"\"This function returns the norm of the operator using the power iteration\n",
    "    method.\n",
    "    INPUT: Op, function\n",
    "           output_dim, tuple (dimension of the operator 2D entry)\n",
    "           epsilon, positive float (error upper bound)\n",
    "    OUTPUT: scalar\"\"\"\n",
    "    d = np.prod(output_dim)\n",
    "\n",
    "    v = np.ones(d,dtype=np.float32) / np.sqrt(d)\n",
    "    v = v.reshape(output_dim)\n",
    "    \n",
    "    ev = eigenvalue(Op, v)\n",
    "\n",
    "    while True:\n",
    "        Op_v = Op(v)\n",
    "        v_new = Op_v / np.linalg.norm(Op_v)\n",
    "\n",
    "        ev_new = eigenvalue(Op, v_new)\n",
    "        if np.abs(ev - ev_new) < epsilon:\n",
    "            break\n",
    "\n",
    "        v = v_new\n",
    "        ev = ev_new\n",
    "        \n",
    "    return ev_new, v_new\n",
    "\n",
    "lambda_unet,_ = power_iteration(unet,output_dim=(64,64))"
   ]
  },
  {
   "cell_type": "code",
   "execution_count": 161,
   "metadata": {},
   "outputs": [],
   "source": [
    "def nmse(signal_1, signal_2):\n",
    "    \n",
    "    return tf.keras.backend.get_value(tf.norm(signal_2 - signal_1)**2 / tf.norm(signal_1)**2)\n",
    "\n",
    "def fftconvolve(image, kernel):\n",
    "\n",
    "    image = tf.expand_dims(tf.expand_dims(image, axis=0), axis=-1)\n",
    "    kernel = tf.expand_dims(tf.expand_dims(kernel, axis=-1), axis=-1)\n",
    "    result = tf.cast(tf.nn.conv2d(image, kernel, strides=[1, 1, 1, 1], padding='SAME'), tf.float32)\n",
    "    return tf.squeeze(result)\n",
    "\n",
    "# Projection - Enforce non-negative values\n",
    "def proj(xi):\n",
    "    \n",
    "    return tf.cast(tf.math.maximum(xi, 0.0), tf.float32)\n",
    " \n",
    "    \n",
    "# H operator\n",
    "def H(data, psf):\n",
    "    \n",
    "    return fftconvolve(data, psf)\n",
    "\n",
    "\n",
    "# H transpose operator\n",
    "def Ht(data, psf):\n",
    "    \n",
    "    return fftconvolve(data, tf.reverse(tf.reverse(psf, axis=[0]), axis=[1]))      # rotate by 180\n",
    "\n",
    "\n",
    "# # The gradient\n",
    "# def grad(y, x_rec, psf):\n",
    "\n",
    "#     return Ht(H(x_rec, psf) - y, psf)\n",
    "\n",
    "# The gradient\n",
    "def grad(y, x_rec, psf):\n",
    "    res = H(x_rec, psf) - y\n",
    "    res = comp_grad(res,psu,mu,gamma_loss)\n",
    "    res = Ht(res, psf)\n",
    "    return res\n",
    "\n",
    "# The cost function\n",
    "def cost_func(y, x_rec, z, mu, rho, psf, var):\n",
    "\n",
    "    temp = z - x_rec\n",
    "    shape = mu.get_shape().as_list()\n",
    "    \n",
    "    cost_val = ( tf.cast(0.5, tf.float32) * rho * tf.norm(temp)**2  -\n",
    "                 tf.matmul(tf.reshape(mu, [1, shape[0]*shape[1]]), tf.reshape(temp, [shape[0]*shape[1], 1]))  +\n",
    "                 (tf.cast(0.5, tf.float32) / var) * tf.norm(y - H(x_rec, psf))**2 )\n",
    "     \n",
    "    return tf.keras.backend.eval(cost_val).flatten()\n",
    "\n",
    "\n",
    "# Spectral value\n",
    "def max_sv(psf, sigma, rho):\n",
    "    \n",
    "    H = tf.signal.fft2d(tf.cast(psf, tf.complex64))\n",
    "    normH = tf.math.abs(tf.reverse(tf.reverse(H, axis=[0]), axis=[1]) * H  +  tf.cast(rho*sigma**2, tf.complex64))\n",
    "    return tf.cast(tf.math.reduce_max(normH), tf.float32)\n",
    "     \n",
    "    \n",
    "# Compute gradient step size   \n",
    "def get_alpha(rho, sv, sigma):\n",
    "\n",
    "    return (tf.cast(1.0, tf.float32) / \n",
    "            ((sv/(sigma**2) + rho) * tf.cast(1.0 + 1.0e-5, tf.float32)))\n",
    "\n",
    "\n",
    "# Run ADMM\n",
    "def runADMM(y, x_0, psf, grad, z_0, mu_0, rho_0, rho_max, eta, gamma, sigma_noise, n_iter, model):   \n",
    "    \n",
    "    # Convert arrays to tensors\n",
    "    \n",
    "    x_0 = tf.cast(x_0, tf.float32)\n",
    "    z_0 = tf.cast(z_0, tf.float32)\n",
    "    mu_0 = tf.cast(mu_0, tf.float32)\n",
    "    rho_0 = tf.cast(rho_0, tf.float32)          # Augmented lagrangian hyperparameter\n",
    "    rho_max = tf.cast(rho_max, tf.float32)      # max rho value\n",
    "    eta = tf.cast(eta, tf.float32)              # should be between - [0, 1)\n",
    "    gamma = tf.cast(gamma, tf.float32)          # multiplicative rho factor -- Should be > 1   \n",
    "    \n",
    "    # declare variables\n",
    "    \n",
    "    cost = np.full(n_iter, np.inf)\n",
    "    nmse_arr = np.full(n_iter, np.inf)\n",
    "    \n",
    "    # ADMM parameters\n",
    "    \n",
    "    x_k = x_0\n",
    "    z_k = z_0\n",
    "    mu_k = mu_0\n",
    "    rho_k = rho_0                                  # Augmented lagrangian hyperparameter\n",
    "    delta_k = tf.cast(0.0, tf.float32)      \n",
    "\n",
    "    # FISTA parameters\n",
    "    \n",
    "    t_k = tf.cast(1.0, tf.float32)\n",
    "    z_fista_old = z_0\n",
    "    sigma = tf.cast(sigma_noise, tf.float32)\n",
    "      \n",
    "    # square of spectral radius of convolution matrix\n",
    "    \n",
    "    sv = max_sv(psf, sigma, rho_k)           \n",
    "\n",
    "    # The gradient descent step\n",
    "    \n",
    "    alpha = get_alpha(rho_k, sv, sigma) \n",
    "    \n",
    "    # ADMM Loop \n",
    "    \n",
    "    for k in range(n_iter): \n",
    "        \n",
    "        ## FISTA update\n",
    "        \n",
    "        x_k1 = z_fista_old - alpha * (grad(y, z_fista_old, psf)  + \n",
    "                                      mu_k * sigma**2  + \n",
    "                                      rho_k * sigma**2 * (z_fista_old - z_k)) \n",
    "        \n",
    "        x_k1 = proj(x_k1)             \n",
    "        \n",
    "        t_k1 = ( (tf.cast(1.0, tf.float32) + tf.math.sqrt(tf.cast(4.0, tf.float32)*t_k**2 + tf.cast(1.0, tf.float32))) \n",
    "                / tf.cast(2.0, tf.float32) )\n",
    "        \n",
    "        lambda_fista = tf.cast(1.0, tf.float32) + (t_k -  tf.cast(1.0, tf.float32)) / t_k1\n",
    "        \n",
    "        z_fista_new = x_k + lambda_fista * (x_k1 - x_k)\n",
    "        \n",
    "        z_fista_old = z_fista_new\n",
    "        t_k = t_k1               \n",
    "    \n",
    "        ## Denoising sub-step\n",
    "     \n",
    "        z_k1 = x_k1 + (mu_k / rho_k)\n",
    "\n",
    "        # U-Net Denoising\n",
    "        \n",
    "        fact = 1.0  #alpha * tf.norm(psf)\n",
    "        z_k1 = tf.expand_dims(tf.expand_dims(z_k1, axis=0), axis=-1)\n",
    "        z_k1 = tf.cast(tf.squeeze(model(z_k1 / fact)), tf.float32) * fact #/ lambda_unet\n",
    "        \n",
    "        ## mu update\n",
    "        \n",
    "        mu_k1 = mu_k + (x_k1 - z_k1) * rho_k\n",
    "               \n",
    "        ## Cost\n",
    "        \n",
    "        cost[k] = cost_func(y, x_k1, z_k1, mu_k1, rho_k, psf, var=sigma**2)          \n",
    "        \n",
    "        ## Rho & alpha update       \n",
    "\n",
    "        test1 = (tf.math.abs(gamma * rho_k) < tf.math.abs(rho_max))\n",
    "\n",
    "        delta_k1 = tf.cond(test1, lambda: (tf.cast(1.0/y.get_shape().as_list()[0], tf.float32) * \n",
    "                                           (tf.norm(x_k1 - x_k) + tf.norm(z_k1 - z_k) + tf.norm(mu_k1 - mu_k))), \n",
    "                                  lambda: delta_k)\n",
    "                \n",
    "        test2 = (test1 and (tf.math.abs(delta_k1) > tf.math.abs(eta * delta_k)))\n",
    "        \n",
    "        rho_k1 = tf.cond(test2, lambda: gamma * rho_k, lambda: rho_k)\n",
    "        alpha = tf.cond(test2, lambda: get_alpha(rho_k1, sv, 1.0), lambda: alpha)            \n",
    "        \n",
    "        # Update all variables\n",
    "        \n",
    "        stop_critera = tf.linalg.norm(x_k-x_k1)/tf.linalg.norm(x_k) < 1e-4\n",
    "        \n",
    "        delta_k = tf.cond(test1, lambda: delta_k1, lambda: delta_k)\n",
    "        rho_k = rho_k1\n",
    "        x_k = x_k1\n",
    "        mu_k = mu_k1\n",
    "        z_k = z_k1\n",
    "        sv = max_sv(psf, sigma, rho_k)       \n",
    "               \n",
    "        # Compute NMSE\n",
    "        \n",
    "        nmse_arr[k] = nmse(gal_target, x_k) \n",
    "        \n",
    "        # Stopping Criteria\n",
    "        \n",
    "        if stop_criteria:#(np.abs(nmse_arr[k]-nmse_arr[k-1]) < 1e-4) or (np.abs(cost[k]-cost[k-1]) < 1e-4):\n",
    "            break  \n",
    "          \n",
    "        \n",
    "    return x_k, cost, nmse_arr"
   ]
  },
  {
   "cell_type": "code",
   "execution_count": 162,
   "metadata": {},
   "outputs": [
    {
     "name": "stdout",
     "output_type": "stream",
     "text": [
      "\n",
      "\n",
      " Gal_ind = 39 | SNR = 12.7112677762255\n"
     ]
    },
    {
     "ename": "NameError",
     "evalue": "name 'stop_criteria' is not defined",
     "output_type": "error",
     "traceback": [
      "\u001b[0;31m---------------------------------------------------------------------------\u001b[0m",
      "\u001b[0;31mNameError\u001b[0m                                 Traceback (most recent call last)",
      "\u001b[0;32m<ipython-input-162-df7e3534b381>\u001b[0m in \u001b[0;36m<module>\u001b[0;34m\u001b[0m\n\u001b[1;32m     31\u001b[0m x_opt, cost, nmse_arr = runADMM(gal_input_tf, x_0, psf, grad, z_0, \n\u001b[1;32m     32\u001b[0m                                 \u001b[0mmu_0\u001b[0m\u001b[0;34m,\u001b[0m \u001b[0mrho_0\u001b[0m\u001b[0;34m,\u001b[0m \u001b[0mrho_max\u001b[0m\u001b[0;34m,\u001b[0m \u001b[0meta\u001b[0m\u001b[0;34m,\u001b[0m \u001b[0mgamma\u001b[0m\u001b[0;34m,\u001b[0m\u001b[0;34m\u001b[0m\u001b[0;34m\u001b[0m\u001b[0m\n\u001b[0;32m---> 33\u001b[0;31m                                 sigma_noise, n_iter, model)\n\u001b[0m",
      "\u001b[0;32m<ipython-input-161-a6271dc48c85>\u001b[0m in \u001b[0;36mrunADMM\u001b[0;34m(y, x_0, psf, grad, z_0, mu_0, rho_0, rho_max, eta, gamma, sigma_noise, n_iter, model)\u001b[0m\n\u001b[1;32m    178\u001b[0m         \u001b[0;31m# Stopping Criteria\u001b[0m\u001b[0;34m\u001b[0m\u001b[0;34m\u001b[0m\u001b[0;34m\u001b[0m\u001b[0m\n\u001b[1;32m    179\u001b[0m \u001b[0;34m\u001b[0m\u001b[0m\n\u001b[0;32m--> 180\u001b[0;31m         \u001b[0;32mif\u001b[0m \u001b[0mstop_criteria\u001b[0m\u001b[0;34m:\u001b[0m\u001b[0;31m#(np.abs(nmse_arr[k]-nmse_arr[k-1]) < 1e-4) or (np.abs(cost[k]-cost[k-1]) < 1e-4):\u001b[0m\u001b[0;34m\u001b[0m\u001b[0;34m\u001b[0m\u001b[0m\n\u001b[0m\u001b[1;32m    181\u001b[0m             \u001b[0;32mbreak\u001b[0m\u001b[0;34m\u001b[0m\u001b[0;34m\u001b[0m\u001b[0m\n\u001b[1;32m    182\u001b[0m \u001b[0;34m\u001b[0m\u001b[0m\n",
      "\u001b[0;31mNameError\u001b[0m: name 'stop_criteria' is not defined"
     ]
    }
   ],
   "source": [
    "n_iter = 100\n",
    "disp_step = 20\n",
    "\n",
    "gal_num = 39\n",
    "\n",
    "x_0 = np.squeeze(batch['inputs_tikho'][gal_num])\n",
    "z_0 = np.squeeze(batch['inputs_tikho'][gal_num])\n",
    "\n",
    "mu_0 = 0.0                              \n",
    "rho_0 = 50.0                     # Augmented lagrangian hyperparameter\n",
    "rho_max = 200.0                  # max rho value\n",
    "eta = 0.5                        # should be between - [0, 1)\n",
    "gamma = 1.4 \n",
    "\n",
    "# Deconvolve given image\n",
    "\n",
    "gal_input = np.squeeze(batch['inputs'][gal_num])\n",
    "gal_target = np.squeeze(batch['targets'][gal_num])\n",
    "psf = np.squeeze(batch['psf'][gal_num])\n",
    "sigma_noise = cl.sigma_mad(batch['inputs'][gal_num])\n",
    "SNR = np.max(batch['inputs'][gal_num])/sigma_noise\n",
    "\n",
    "print('\\n\\n Gal_ind = {} | SNR = {}'.format(gal_num, SNR))\n",
    "\n",
    "# Cast numpy arrays to tensors\n",
    "gal_input_tf = tf.cast(gal_input, tf.float32)\n",
    "psf_tf = tf.cast(psf, tf.float32) \n",
    "gal_target_tf = tf.cast(gal_target, tf.float32)\n",
    "\n",
    "# Deconvolve the image\n",
    "x_opt, cost, nmse_arr = runADMM(gal_input_tf, x_0, psf, grad, z_0, \n",
    "                                mu_0, rho_0, rho_max, eta, gamma, \n",
    "                                sigma_noise, n_iter, model)"
   ]
  },
  {
   "cell_type": "code",
   "execution_count": null,
   "metadata": {},
   "outputs": [],
   "source": [
    "plt.figure(figsize=(25,5))\n",
    "plt.subplot(151)\n",
    "plt.imshow(gal_target)\n",
    "plt.colorbar()\n",
    "plt.title('Ground Truth')\n",
    "plt.subplot(152)\n",
    "plt.imshow(x_opt)\n",
    "plt.colorbar()\n",
    "plt.title('Reconstruction')\n",
    "plt.subplot(153)\n",
    "plt.imshow(np.abs(gal_target-x_opt))\n",
    "plt.colorbar()\n",
    "plt.title('Error')\n",
    "plt.subplot(154)\n",
    "plt.imshow(gal_input)\n",
    "plt.colorbar()\n",
    "plt.title('Observation')\n",
    "plt.subplot(155)\n",
    "plt.imshow(gal_input-H(x_opt,psf))\n",
    "plt.colorbar()\n",
    "plt.title('Residual')\n",
    "plt.show()"
   ]
  },
  {
   "cell_type": "code",
   "execution_count": null,
   "metadata": {},
   "outputs": [],
   "source": [
    "plt.imshow(x_opt);plt.colorbar()"
   ]
  },
  {
   "cell_type": "code",
   "execution_count": null,
   "metadata": {},
   "outputs": [],
   "source": [
    "plt.imshow(gal_target);plt.colorbar()"
   ]
  },
  {
   "cell_type": "code",
   "execution_count": null,
   "metadata": {},
   "outputs": [],
   "source": [
    "plt.imshow(np.abs(gal_target-x_opt));plt.colorbar()"
   ]
  },
  {
   "cell_type": "code",
   "execution_count": null,
   "metadata": {},
   "outputs": [],
   "source": [
    "plt.imshow(gal_input);plt.colorbar()"
   ]
  },
  {
   "cell_type": "code",
   "execution_count": null,
   "metadata": {},
   "outputs": [],
   "source": [
    "plt.imshow(gal_input-H(x_opt,psf));plt.colorbar()"
   ]
  },
  {
   "cell_type": "code",
   "execution_count": null,
   "metadata": {},
   "outputs": [],
   "source": [
    "plt.hist(tf.keras.backend.eval(gal_input-H(x_opt,psf)).flatten(),bins=100)"
   ]
  },
  {
   "cell_type": "code",
   "execution_count": null,
   "metadata": {},
   "outputs": [],
   "source": [
    "plt.plot(nmse_arr)"
   ]
  },
  {
   "cell_type": "code",
   "execution_count": 163,
   "metadata": {},
   "outputs": [
    {
     "data": {
      "text/plain": [
       "[<matplotlib.lines.Line2D at 0x154884acdfd0>]"
      ]
     },
     "execution_count": 163,
     "metadata": {},
     "output_type": "execute_result"
    },
    {
     "data": {
      "image/png": "[encoded data removed]",
      "text/plain": [
       "<Figure size 432x288 with 1 Axes>"
      ]
     },
     "metadata": {
      "needs_background": "light"
     },
     "output_type": "display_data"
    }
   ],
   "source": [
    "plt.plot(cost)"
   ]
  },
  {
   "cell_type": "code",
   "execution_count": null,
   "metadata": {},
   "outputs": [],
   "source": []
  },
  {
   "cell_type": "code",
   "execution_count": null,
   "metadata": {},
   "outputs": [],
   "source": []
  }
 ],
 "metadata": {
  "kernelspec": {
   "display_name": "Python 3",
   "language": "python",
   "name": "python3"
  },
  "language_info": {
   "codemirror_mode": {
    "name": "ipython",
    "version": 3
   },
   "file_extension": ".py",
   "mimetype": "text/x-python",
   "name": "python",
   "nbconvert_exporter": "python",
   "pygments_lexer": "ipython3",
   "version": "3.7.5"
  }
 },
 "nbformat": 4,
 "nbformat_minor": 4
}
