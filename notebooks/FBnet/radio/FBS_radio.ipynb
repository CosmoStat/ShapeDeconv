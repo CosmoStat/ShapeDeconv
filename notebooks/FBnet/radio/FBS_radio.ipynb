{
 "cells": [
  {
   "cell_type": "code",
   "execution_count": 1,
   "metadata": {},
   "outputs": [
    {
     "data": {
      "text/plain": [
       "True"
      ]
     },
     "execution_count": 1,
     "metadata": {},
     "output_type": "execute_result"
    }
   ],
   "source": [
    "%matplotlib inline\n",
    "import sys\n",
    "\n",
    "# Directories and paths\n",
    "lib_path = '/gpfswork/rech/xdy/uze68md/GitHub/'\n",
    "data_path = '/gpfswork/rech/xdy/uze68md/data/'\n",
    "model_dir = '/gpfswork/rech/xdy/uze68md/trained_models/model_meerkat/'\n",
    "\n",
    "# Add library path to PYTHONPATH\n",
    "path_alphatransform = lib_path+'alpha-transform'\n",
    "path_score = lib_path+'score'\n",
    "sys.path.insert(0, path_alphatransform)\n",
    "sys.path.insert(0, path_score)\n",
    "\n",
    "import numpy as np\n",
    "import matplotlib.pyplot as plt\n",
    "from mpl_toolkits.axes_grid1 import make_axes_locatable\n",
    "from scipy import fft\n",
    "from galaxy2galaxy import problems\n",
    "import tensorflow as tf\n",
    "import galflow as gf\n",
    "from scipy.ndimage import convolve\n",
    "import cadmos_lib as cl\n",
    "\n",
    "tf.enable_eager_execution()\n",
    "\n",
    "tf.version.VERSION\n",
    "\n",
    "tf.executing_eagerly()"
   ]
  },
  {
   "cell_type": "code",
   "execution_count": 2,
   "metadata": {},
   "outputs": [],
   "source": [
    "# Functions\n",
    "\n",
    "def ir2tf_simplifie(imp_resp, shape):\n",
    "    \n",
    "\n",
    "    dim = 2\n",
    "    # Zero padding and fill\n",
    "    irpadded = np.zeros(shape)\n",
    "    irpadded[tuple([slice(0, s) for s in imp_resp.shape])] = imp_resp\n",
    "    # Roll for zero convention of the fft to avoid the phase\n",
    "    # problem. Work with odd and even size.\n",
    "    for axis, axis_size in enumerate(imp_resp.shape):\n",
    "\n",
    "        irpadded = np.roll(irpadded,\n",
    "                           shift=-int(np.floor(axis_size / 2)),\n",
    "                           axis=axis)\n",
    "\n",
    "    return fft.rfftn(irpadded, axes=range(-dim, 0))\n",
    "\n",
    "def laplacian_simplifie(shape):\n",
    "    \n",
    "    impr = np.zeros([3,3])\n",
    "    for dim in range(2):\n",
    "        idx = tuple([slice(1, 2)] * dim +\n",
    "                    [slice(None)] +\n",
    "                    [slice(1, 2)] * (1 - dim))\n",
    "        impr[idx] = np.array([-1.0,\n",
    "                              0.0,\n",
    "                              -1.0]).reshape([-1 if i == dim else 1\n",
    "                                              for i in range(2)])\n",
    "    impr[(slice(1, 2), ) * 2] = 4.0\n",
    "    return ir2tf_simplifie(impr, shape), impr\n",
    "\n",
    "def laplacian_tf(shape):\n",
    "    return tf.convert_to_tensor(laplacian_simplifie(shape)[0])\n",
    "\n",
    "def wiener_tf(image, psf, balance, laplacian=True):\n",
    "    r\"\"\"Applies Wiener filter to image.\n",
    "\n",
    "    This function takes an image in the direct space and its corresponding PSF in the\n",
    "    Fourier space and performs a deconvolution using the Wiener Filter.\n",
    "\n",
    "    Parameters\n",
    "    ----------\n",
    "    image   : 2D TensorFlow tensor\n",
    "        Image in the direct space.\n",
    "    psf     : 2D TensorFlow tensor\n",
    "        PSF in the Fourier space (or K space).\n",
    "    balance : scalar\n",
    "        Weight applied to regularization.\n",
    "    laplacian : boolean\n",
    "        If true the Laplacian regularization is used else the identity regularization \n",
    "        is used.\n",
    "\n",
    "    Returns\n",
    "    -------\n",
    "    tuple\n",
    "        The first element is the filtered image in the Fourier space.\n",
    "        The second element is the PSF in the Fourier space (also know as the Transfer\n",
    "        Function).\n",
    "    \"\"\"\n",
    "    trans_func = psf\n",
    "    if laplacian:\n",
    "        reg = laplacian_tf(image.shape)\n",
    "        if psf.shape != reg.shape:\n",
    "            trans_func = tf.signal.rfft2d(tf.signal.ifftshift(tf.cast(psf, 'float32')))\n",
    "        else:\n",
    "            trans_func = psf\n",
    "    \n",
    "    arg1 = tf.cast(tf.math.conj(trans_func), 'complex64')\n",
    "    arg2 = tf.dtypes.cast(tf.math.abs(trans_func),'complex64') ** 2\n",
    "    arg3 = balance\n",
    "    if laplacian:\n",
    "        arg3 *= tf.dtypes.cast(tf.math.abs(laplacian_tf(image.shape)), 'complex64')**2\n",
    "    wiener_filter = arg1 / (arg2 + arg3)\n",
    "    \n",
    "    # Apply wiener in Foutier (or K) space\n",
    "    wiener_applied = wiener_filter * tf.signal.rfft2d(tf.cast(image, 'float32'))\n",
    "    \n",
    "    return wiener_applied, trans_func\n",
    "\n",
    "def pre_proc_unet(dico):\n",
    "    r\"\"\"Preprocess the data and apply the Tikhonov filter on the input galaxy images.\n",
    "\n",
    "    This function takes the dictionnary of galaxy images and PSF for the input and\n",
    "    the target and returns a list containing 2 arrays: an array of galaxy images that\n",
    "    are the output of the Tikhonov filter and an array of target galaxy images.\n",
    "\n",
    "    Parameters\n",
    "    ----------\n",
    "    dico : dictionnary\n",
    "        Array_like means all those objects -- lists, nested lists, etc. --\n",
    "        that can be converted to an array.  We can also refer to\n",
    "        variables like `var1`.\n",
    "\n",
    "    Returns\n",
    "    -------\n",
    "    list\n",
    "        list containing 2 arrays: an array of galaxy images that are the output of the\n",
    "        Tikhonov filter and an array of target galaxy images.\n",
    "\n",
    "    Example\n",
    "    -------\n",
    "    These are written in doctest format, and should illustrate how to\n",
    "    use the function.\n",
    "\n",
    "    >>> from galaxy2galaxy import problems # to list avaible problems run problems.available()\n",
    "    >>> problem128 = problems.problem('attrs2img_cosmos_hst2euclide')\n",
    "    >>> dset = problem128.dataset(Modes.TRAIN, data_dir='attrs2img_cosmos_hst2euclide')\n",
    "    >>> dset = dset.map(pre_proc_unet)\n",
    "    \"\"\"\n",
    "    # First, we interpolate the image on a finer grid\n",
    "    x_interpolant=tf.image.ResizeMethod.BICUBIC\n",
    "    interp_factor = 2\n",
    "    Nx = 128\n",
    "    Ny = 128\n",
    "    \n",
    "    dico['inputs'] = tf.image.resize(dico['targets'],\n",
    "                                  [Nx*interp_factor, Ny*interp_factor],\n",
    "                                  method=x_interpolant)\n",
    "    \n",
    "    # Second, we add noise\n",
    "    sigma = 7e-4\n",
    "    noise = tf.random_normal(shape=tf.shape(dico['inputs']), mean=0.0, stddev=sigma, dtype=tf.float32)\n",
    "    dico['inputs'] = dico['inputs'] + noise\n",
    "    dico['psf'] = tf.cast(dico['psf'][...,0]/tf.math.reduce_max(dico['psf'][...,0]), dtype=tf.complex64)\n",
    "    dico['mask'] = tf.identity(dico['psf'])\n",
    "    dico['inputs'] = tf.signal.rfft2d(dico['inputs'][...,0])\n",
    "    dico['inputs'] = tf.expand_dims(dico['inputs'], axis=0)\n",
    "    dico['psf'] = tf.expand_dims(dico['psf'], axis=0)\n",
    "    dico['inputs'] = gf.kconvolve(dico['inputs'], dico['psf'],\n",
    "                   interp_factor=interp_factor)[0]\n",
    "    dico['psf'] = tf.signal.ifftshift(tf.signal.irfft2d(dico['psf'], fft_length=[2*Nx,2*Ny]))\n",
    "    \n",
    "    # Third, we normalize the Unet inputs to improve the training\n",
    "    norm_factor = 5e2\n",
    "    dico['inputs'] = dico['inputs']*norm_factor\n",
    "    dico['targets'] = dico['targets']*norm_factor\n",
    "\n",
    "    # Fourth, we compute the Tikhonet solution for the input\n",
    "    # Since we lower the resolution of the image, we also scale the flux\n",
    "    # accordingly\n",
    "    dico['inputs'] = tf.image.resize(dico['inputs'],\n",
    "                                  [Nx*interp_factor, Ny*interp_factor],\n",
    "                                  method=x_interpolant)\n",
    "    dico['inputs'] = dico['inputs'] / interp_factor**2\n",
    "    \n",
    "    # Fifth, we scale the images back to the initial size\n",
    "    balance = 1e-2\n",
    "    dico['inputs_tikho'], _ = wiener_tf(dico['inputs'][...,0], dico['mask'], balance)\n",
    "    dico['inputs_tikho'] = tf.expand_dims(tf.signal.irfft2d(dico['inputs_tikho']), axis=-1)\n",
    "    dico['inputs_tikho'] = tf.image.resize(dico['inputs_tikho'],\n",
    "                                  [Nx, Ny],\n",
    "                                  method=x_interpolant)\n",
    "    \n",
    "    dico['inputs'] = tf.image.resize(dico['inputs'],\n",
    "                                  [Nx, Ny],\n",
    "                                  method=x_interpolant)\n",
    "\n",
    "    dico['psf'] = tf.expand_dims(dico['psf'][0], axis=-1)\n",
    "    dico['psf'] = tf.image.resize(dico['psf'],\n",
    "                                  [Nx, Ny],\n",
    "                                  method=x_interpolant) * interp_factor**2\n",
    "    \n",
    "    return dico"
   ]
  },
  {
   "cell_type": "code",
   "execution_count": 3,
   "metadata": {},
   "outputs": [
    {
     "name": "stdout",
     "output_type": "stream",
     "text": [
      "WARNING:tensorflow:From /linkhome/rech/gencea01/uze68md/.local/lib/python3.7/site-packages/tensor2tensor/data_generators/problem.py:651: The name tf.logging.info is deprecated. Please use tf.compat.v1.logging.info instead.\n",
      "\n",
      "INFO:tensorflow:Reading data files from /gpfswork/rech/xdy/uze68md/data/meerkat_3600/meerkat_3600-dev*\n",
      "INFO:tensorflow:partition: 0 num_data_files: 2\n",
      "WARNING:tensorflow:From /gpfslocalsup/pub/anaconda-py3/2019.10/envs/tensorflow-gpu-1.15.2/lib/python3.7/site-packages/tensorflow_core/python/autograph/converters/directives.py:119: The name tf.FixedLenFeature is deprecated. Please use tf.io.FixedLenFeature instead.\n",
      "\n",
      "WARNING:tensorflow:\n",
      "The TensorFlow contrib module will not be included in TensorFlow 2.0.\n",
      "For more information, please see:\n",
      "  * https://github.com/tensorflow/community/blob/master/rfcs/20180907-contrib-sunset.md\n",
      "  * https://github.com/tensorflow/addons\n",
      "  * https://github.com/tensorflow/io (for I/O related ops)\n",
      "If you depend on functionality not listed there, please file an issue.\n",
      "\n",
      "WARNING:tensorflow:From /gpfslocalsup/pub/anaconda-py3/2019.10/envs/tensorflow-gpu-1.15.2/lib/python3.7/site-packages/tensorflow_core/python/autograph/converters/directives.py:119: The name tf.random_normal is deprecated. Please use tf.random.normal instead.\n",
      "\n",
      "WARNING:tensorflow:From <ipython-input-3-0a71d51b4318>:13: DatasetV1.make_one_shot_iterator (from tensorflow.python.data.ops.dataset_ops) is deprecated and will be removed in a future version.\n",
      "Instructions for updating:\n",
      "Use `for ... in dataset:` to iterate over a dataset. If using `tf.estimator`, return the `Dataset` object directly from your input function. As a last resort, you can use `tf.compat.v1.data.make_one_shot_iterator(dataset)`.\n"
     ]
    }
   ],
   "source": [
    "with tf.compat.v1.Session() as sess:\n",
    "    \n",
    "    # Let's create an instance of the meerkat_3600 problem\n",
    "    Modes = tf.estimator.ModeKeys\n",
    "    problem128 = problems.problem('meerkat_3600')\n",
    "    dset = problem128.dataset(Modes.EVAL, data_dir=data_path+'meerkat_3600')\n",
    "    dset = dset.repeat()\n",
    "    dset = dset.map(pre_proc_unet)\n",
    "    n_batch = 128\n",
    "    dset = dset.batch(n_batch)\n",
    "\n",
    "    # Build an iterator over the dataset\n",
    "    iterator = dset.make_one_shot_iterator().get_next()\n",
    "\n",
    "    # Initialize batch\n",
    "    batch = sess.run(iterator)"
   ]
  },
  {
   "cell_type": "code",
   "execution_count": 4,
   "metadata": {},
   "outputs": [],
   "source": [
    "model_name = 'unet_scales-4_steps-6500_epochs-20_growth_rate-12_batch_size-32_activationfunction-relu'\n",
    "model = tf.keras.models.load_model(model_dir + model_name)#, compile=False)"
   ]
  },
  {
   "cell_type": "code",
   "execution_count": 107,
   "metadata": {},
   "outputs": [
    {
     "name": "stdout",
     "output_type": "stream",
     "text": [
      "128 128\n"
     ]
    },
    {
     "name": "stderr",
     "output_type": "stream",
     "text": [
      "/gpfswork/rech/xdy/uze68md/GitHub/score/cadmos_lib.py:104: ComplexWarning: Casting complex values to real discards the imaginary part\n",
      "  coeff[s] = trafo.adjoint_transform(temp, do_norm=False)\n"
     ]
    }
   ],
   "source": [
    "# SET SCORE PARAMETERS\n",
    "\n",
    "gamma = 1\n",
    "n_row = batch['inputs'].shape[-3]\n",
    "n_col = batch['inputs'].shape[-2]\n",
    "n_shearlet = 3\n",
    "n_maps = 100\n",
    "\n",
    "U = cl.makeUi(n_row,n_col)\n",
    "_,shearlets_adj = cl.get_shearlets(n_row\n",
    "                                   ,n_col\n",
    "                                   ,n_shearlet)\n",
    "#Adjoint shealret transform of U, i.e Psi^{Star}(U)\n",
    "psu = np.array([cl.convolve_stack(ui,shearlets_adj) for ui in U])\n",
    "mu = cl.comp_mu(psu)"
   ]
  },
  {
   "cell_type": "code",
   "execution_count": 108,
   "metadata": {},
   "outputs": [],
   "source": [
    "def comp_grad(R,adj_U,mu,gamma):\n",
    "    \"\"\"This function returns the gradient of the differentiable part of the\n",
    "    loss function.\n",
    "    INPUT: R, 2D numpy array (residual)\n",
    "           adj_U, 3D numpy array (adjoint shearlet transform of U)\n",
    "           mu, 1D numpy array (weights associated to adj_U)\n",
    "           gamma, scalar (trade-off between data-fidelity and shape constraint)\n",
    "    OUTPUT: 2D numpy array\"\"\"\n",
    "    temp = gamma*np.array([[cst*cl.scal(R,im)*im \n",
    "                            for cst,im in zip(m, u)]\n",
    "                             for m,u in zip(mu,adj_U)]).sum((0,1)) + R\n",
    "    return 2*temp\n",
    "\n",
    "def comp_grad_tf(R,adj_U,mu,gamma):\n",
    "    \"\"\"This function returns the gradient of the differentiable part of the\n",
    "    loss function.\n",
    "    INPUT: R, 2D numpy array (residual)\n",
    "           adj_U, 3D numpy array (adjoint shearlet transform of U)\n",
    "           mu, 1D numpy array (weights associated to adj_U)\n",
    "           gamma, scalar (trade-off between data-fidelity and shape constraint)\n",
    "    OUTPUT: 2D numpy array\"\"\"\n",
    "    temp = np.zeros(R.shape)\n",
    "    for m,u in zip(mu,adj_U):\n",
    "        for cst,im in zip(m,u):\n",
    "            temp = cst*scal(R,im)*im\n",
    "    temp = gamma*np.array([[cst*scal(R,im)*im \n",
    "                            for cst,im in zip(m, u)]\n",
    "                             for m,u in zip(mu,adj_U)]).sum((0,1)) + R\n",
    "    return 2*temp"
   ]
  },
  {
   "cell_type": "code",
   "execution_count": null,
   "metadata": {},
   "outputs": [],
   "source": [
    "def noise_op(res):\n",
    "    \"\"\"This function backprojects the noise to the image space.\n",
    "    INPUT: res, 2D Numpy Array\n",
    "    OUTPUT: bp_res, 2D Numpy Array\"\"\"\n",
    "    res = cl.convolve(res,psf,'same')\n",
    "    bp_res = np.array(cl.comp_grad(res,psu,mu,gamma))\n",
    "    bp_res = cl.convolve(bp_res,psf_rot,'same')\n",
    "    return bp_res"
   ]
  },
  {
   "cell_type": "code",
   "execution_count": 94,
   "metadata": {},
   "outputs": [],
   "source": [
    "def nmse(signal_1, signal_2):\n",
    "\n",
    "    return tf.keras.backend.get_value(tf.norm(signal_2 - signal_1)**2 / tf.norm(signal_1)**2)\n",
    "\n",
    "def fftconvolve(image, kernel):\n",
    "\n",
    "    image = tf.expand_dims(tf.expand_dims(image, axis=0), axis=-1)\n",
    "    kernel = tf.expand_dims(tf.expand_dims(kernel, axis=-1), axis=-1)\n",
    "    result = tf.cast(tf.nn.conv2d(image, kernel, strides=[1, 1, 1, 1], padding='SAME'), tf.float32)\n",
    "    return tf.squeeze(result)\n",
    "\n",
    "# Projection - Enforce non-negative values\n",
    "def proj(xi):\n",
    "    \n",
    "    return tf.cast(tf.math.maximum(xi, 0.0), tf.float32)\n",
    " \n",
    "    \n",
    "# H operator\n",
    "def H(data, psf):\n",
    "    \n",
    "    return fftconvolve(data, psf)\n",
    "\n",
    "\n",
    "# H transpose operator\n",
    "def Ht(data, psf):\n",
    "    \n",
    "    return fftconvolve(data, tf.reverse(tf.reverse(psf, axis=[0]), axis=[1]))      # rotate by 180\n",
    "\n",
    "\n",
    "# The gradient\n",
    "def grad(y, x_rec, psf):\n",
    "\n",
    "    return Ht(H(x_rec, psf) - y, psf)\n",
    "\n",
    "\n",
    "# The cost function\n",
    "def cost_func(y, x_rec, psf, var):\n",
    "\n",
    "    L_d = (tf.cast(0.5, tf.float32) / var) * tf.norm(y - H(x_rec, psf))**2      \n",
    "    return tf.keras.backend.eval(L_d)\n",
    "\n",
    "\n",
    "# Spectral value\n",
    "def max_sv(psf):\n",
    "    \n",
    "    H = tf.signal.fft2d(tf.cast(psf, tf.complex64))\n",
    "    normH = tf.math.abs(tf.reverse(tf.reverse(H, axis=[0]), axis=[1]) * H)\n",
    "    return tf.cast(tf.math.reduce_max(normH), tf.float32)\n",
    "     \n",
    "    \n",
    "# Compute gradient step size   \n",
    "def get_alpha(sv):\n",
    "\n",
    "    return (tf.cast(1.0, tf.float32) / \n",
    "            (sv * tf.cast(1.0 + 1.0e-5, tf.float32)))\n",
    "\n",
    "\n",
    "def runFBS(y, x_0, psf, grad, sigma_noise, disp_step, n_iter, model):    \n",
    "\n",
    "    # Convert arrays to tensors \n",
    "    x_0 = tf.cast(x_0, tf.float32)\n",
    "    x_k = x_0\n",
    "  \n",
    "    # declare variables    \n",
    "    cost = []\n",
    "    nmse_arr = np.full(n_iter, np.inf)\n",
    "    x_opt = tf.zeros(tf.shape(y.shape), tf.float32)\n",
    "    \n",
    "    sigma = tf.cast(sigma_noise, tf.float32)\n",
    "    \n",
    "    sv = max_sv(psf)\n",
    "    alpha = get_alpha(sv)\n",
    "\n",
    "    for k in range(n_iter):\n",
    "        \n",
    "        ## Gradient Descent update  \n",
    "        x_k1 = x_k - alpha * grad(y, x_k, psf)   \n",
    "#         x_k1 = soft_thresh(x_k1, 2*np.mean([np.std(x_k1[-30:,-30:]), np.std(x_k1[:30,:30]), \n",
    "#                                             np.std(x_k1[:30,-30:]), np.std(x_k1[-30:,:30])]))\n",
    "        \n",
    "        # U-Net Denoising\n",
    "        x_k1 = tf.expand_dims(tf.expand_dims(x_k1, axis=0), axis=-1)\n",
    "        x_k1 = tf.cast(tf.squeeze(model(x_k1)), tf.float32)\n",
    "        \n",
    "        ## Cost\n",
    "        cost.append(cost_func(y, x_k1, psf, var=sigma**2))          \n",
    "    \n",
    "        # Update variables\n",
    "        x_k = x_k1\n",
    "                \n",
    "        # Reconstruction\n",
    "        final_im = x_k\n",
    "                       \n",
    "        # Compute NMSE\n",
    "        nmse_arr[k] = nmse(gal_target_tf, final_im)       \n",
    "        \n",
    "#         # Check if optimal reconstruction is achieved\n",
    "#         if nmse_arr[k]==np.min(nmse_arr):\n",
    "#             x_opt = final_im\n",
    "    \n",
    "        x_opt = final_im\n",
    "           \n",
    "#         # Display plots\n",
    "#         if (k+1)%disp_step==0:\n",
    "#             plot_utils.plot_iter(final_im, gal_target, y, k+1)\n",
    "                 \n",
    "    return x_opt, cost, nmse_arr"
   ]
  },
  {
   "cell_type": "code",
   "execution_count": 100,
   "metadata": {},
   "outputs": [
    {
     "name": "stdout",
     "output_type": "stream",
     "text": [
      "\n",
      "\n",
      " Gal_ind = 109 | SNR = 184.28072962033332\n"
     ]
    }
   ],
   "source": [
    "n_iter = 5\n",
    "disp_step = 20\n",
    "\n",
    "gal_num = 109\n",
    "\n",
    "x_0 = np.squeeze(batch['inputs_tikho'][gal_num])\n",
    "\n",
    "\n",
    "# Deconvolve given image\n",
    "\n",
    "gal_input = np.squeeze(batch['inputs'][gal_num])\n",
    "gal_target = np.squeeze(batch['targets'][gal_num])\n",
    "psf = np.squeeze(batch['psf'][gal_num])\n",
    "sigma_noise = cl.sigma_mad(batch['inputs'][gal_num])\n",
    "SNR = np.max(batch['targets'][gal_num])/sigma_noise\n",
    "\n",
    "print('\\n\\n Gal_ind = {} | SNR = {}'.format(gal_num, SNR))\n",
    "\n",
    "# Cast numpy arrays to tensors\n",
    "gal_input_tf = tf.cast(gal_input, tf.float32)\n",
    "psf_tf = tf.cast(psf, tf.float32) \n",
    "gal_target_tf = tf.cast(gal_target, tf.float32)\n",
    "\n",
    "# Deconvolve the image\n",
    "x_opt, cost, nmse_arr = runFBS(gal_input_tf, x_0, psf_tf, grad, sigma_noise, \n",
    "                                disp_step, n_iter, model)"
   ]
  },
  {
   "cell_type": "code",
   "execution_count": 101,
   "metadata": {},
   "outputs": [
    {
     "data": {
      "text/plain": [
       "<matplotlib.colorbar.Colorbar at 0x1548951b49d0>"
      ]
     },
     "execution_count": 101,
     "metadata": {},
     "output_type": "execute_result"
    },
    {
     "data": {
      "image/png": "[encoded data removed]",
      "text/plain": [
       "<Figure size 432x288 with 2 Axes>"
      ]
     },
     "metadata": {
      "needs_background": "light"
     },
     "output_type": "display_data"
    }
   ],
   "source": [
    "plt.imshow(x_opt);plt.colorbar()"
   ]
  },
  {
   "cell_type": "code",
   "execution_count": 102,
   "metadata": {},
   "outputs": [
    {
     "data": {
      "text/plain": [
       "<matplotlib.colorbar.Colorbar at 0x1548950eab10>"
      ]
     },
     "execution_count": 102,
     "metadata": {},
     "output_type": "execute_result"
    },
    {
     "data": {
      "image/png": "[encoded data removed]",
      "text/plain": [
       "<Figure size 432x288 with 2 Axes>"
      ]
     },
     "metadata": {
      "needs_background": "light"
     },
     "output_type": "display_data"
    }
   ],
   "source": [
    "plt.imshow(gal_target);plt.colorbar()"
   ]
  },
  {
   "cell_type": "code",
   "execution_count": 103,
   "metadata": {},
   "outputs": [
    {
     "data": {
      "text/plain": [
       "<matplotlib.colorbar.Colorbar at 0x154895029c50>"
      ]
     },
     "execution_count": 103,
     "metadata": {},
     "output_type": "execute_result"
    },
    {
     "data": {
      "image/png": "[encoded data removed]",
      "text/plain": [
       "<Figure size 432x288 with 2 Axes>"
      ]
     },
     "metadata": {
      "needs_background": "light"
     },
     "output_type": "display_data"
    }
   ],
   "source": [
    "plt.imshow(np.abs(gal_target-x_opt));plt.colorbar()"
   ]
  },
  {
   "cell_type": "code",
   "execution_count": 104,
   "metadata": {},
   "outputs": [
    {
     "data": {
      "text/plain": [
       "<matplotlib.colorbar.Colorbar at 0x154894f55ed0>"
      ]
     },
     "execution_count": 104,
     "metadata": {},
     "output_type": "execute_result"
    },
    {
     "data": {
      "image/png": "[encoded data removed]",
      "text/plain": [
       "<Figure size 432x288 with 2 Axes>"
      ]
     },
     "metadata": {
      "needs_background": "light"
     },
     "output_type": "display_data"
    }
   ],
   "source": [
    "plt.imshow(gal_input);plt.colorbar()"
   ]
  },
  {
   "cell_type": "code",
   "execution_count": null,
   "metadata": {},
   "outputs": [],
   "source": []
  },
  {
   "cell_type": "code",
   "execution_count": null,
   "metadata": {},
   "outputs": [],
   "source": []
  },
  {
   "cell_type": "code",
   "execution_count": null,
   "metadata": {},
   "outputs": [],
   "source": []
  }
 ],
 "metadata": {
  "kernelspec": {
   "display_name": "Python 3",
   "language": "python",
   "name": "python3"
  },
  "language_info": {
   "codemirror_mode": {
    "name": "ipython",
    "version": 3
   },
   "file_extension": ".py",
   "mimetype": "text/x-python",
   "name": "python",
   "nbconvert_exporter": "python",
   "pygments_lexer": "ipython3",
   "version": "3.7.5"
  }
 },
 "nbformat": 4,
 "nbformat_minor": 4
}
