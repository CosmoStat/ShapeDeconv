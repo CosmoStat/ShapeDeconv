{
 "cells": [
  {
   "cell_type": "markdown",
   "metadata": {},
   "source": [
    "# Loss Comparison between Numpy and Tensorflow\n",
    "\n",
    "This document aims to compare the losses that are used in SCORE and ShapeDeconv and ultimately harmonize them.\n",
    "\n",
    "## Load present losses\n",
    "\n",
    "<b>Note:</b> Only the differentiable part of the loss is considered is the case of SCORE.\n",
    "\n",
    "Setting required constants and variables:"
   ]
  },
  {
   "cell_type": "code",
   "execution_count": 48,
   "metadata": {},
   "outputs": [],
   "source": [
    "# import libraries\n",
    "import numpy as np\n",
    "import cadmos_lib as cl\n",
    "import tensorflow as tf\n",
    "import sys\n",
    "from numpy.linalg import norm\n",
    "\n",
    "# declare constants that are common for single and multi window constraint\n",
    "n_row = n_col = 96\n",
    "gamma = 1\n",
    "U = cl.makeUi(n_row,n_col)\n",
    "\n",
    "# generate mock data\n",
    "y_pred,win = np.random.rand(2,n_row,n_col)\n",
    "y_true = np.zeros((n_row,n_col))\n",
    "residual = y_true-y_pred\n",
    "\n",
    "#declare constants that are specific to single window constraint\n",
    "muw = np.array([y_pred.size/norm(win*Ui)**2/U.shape[0] for Ui in U])\n",
    "\n",
    "#declare constants that are specific to single window constraint\n",
    "n_shearlet = 3\n",
    "shearlets,shearlets_adj = cl.get_shearlets(n_row,n_col,n_shearlet)\n",
    "psu = np.array([cl.convolve_stack(ui,shearlets_adj) for ui in U]) #shealret adjoint of U, i.e Psi^{Star}(U)\n",
    "mus = cl.comp_mu(psu)"
   ]
  },
  {
   "cell_type": "markdown",
   "metadata": {},
   "source": [
    "### 1. Single Window SCORE Loss"
   ]
  },
  {
   "cell_type": "code",
   "execution_count": 50,
   "metadata": {},
   "outputs": [
    {
     "name": "stdout",
     "output_type": "stream",
     "text": [
      "data_fid= 1518.304569214998\n",
      "shape_constraint= 4861589.5406159\n",
      "loss= 4863107.845185115\n"
     ]
    }
   ],
   "source": [
    "def loss_SW_score(residual):\n",
    "    data_fid = norm(residual)**2/2.\n",
    "    print(\"data_fid=\",data_fid)\n",
    "    shape_constraint = gamma*(np.array([m*((residual*win*u).sum())**2\n",
    "                                        for m,u in zip(muw,U)])/2.).sum()\n",
    "    print(\"shape_constraint=\",shape_constraint)\n",
    "    return data_fid+shape_constraint\n",
    "\n",
    "print(\"loss=\",loss_SW_score(residual))"
   ]
  },
  {
   "cell_type": "markdown",
   "metadata": {},
   "source": [
    "### 2. Single Window ShapeDecon Loss"
   ]
  },
  {
   "cell_type": "code",
   "execution_count": 51,
   "metadata": {},
   "outputs": [
    {
     "name": "stdout",
     "output_type": "stream",
     "text": [
      "data_fid= [[[5.71142011e-01 8.55915273e-01 7.27389555e-02 ... 1.53672920e-01\n",
      "   1.20383979e-03 4.78931767e-01]\n",
      "  [3.81475788e-01 6.95156378e-03 1.79247123e-02 ... 1.46474129e-01\n",
      "   8.57399244e-02 1.77509751e-02]\n",
      "  [5.06797008e-02 2.93113471e-01 2.09339225e-01 ... 6.45609802e-01\n",
      "   2.02292828e-03 7.87914969e-01]\n",
      "  ...\n",
      "  [3.24279222e-01 9.99242840e-01 8.12453649e-01 ... 9.72553561e-01\n",
      "   1.08251992e-01 2.93266674e-01]\n",
      "  [5.31358150e-01 8.78613539e-04 2.39181084e-01 ... 5.91011609e-01\n",
      "   4.49321037e-01 4.01649819e-02]\n",
      "  [5.30482238e-01 6.62608107e-01 4.17743277e-01 ... 6.19546017e-01\n",
      "   2.05129163e-02 8.88865229e-03]]]\n",
      "shape_constraint= [[[4876707.37728474]]]\n",
      "loss= [[[4876707.94842675 4876708.23320001 4876707.45002369 ...\n",
      "   4876707.53095766 4876707.37848858 4876707.85621651]\n",
      "  [4876707.75876053 4876707.3842363  4876707.39520945 ...\n",
      "   4876707.52375887 4876707.46302466 4876707.39503571]\n",
      "  [4876707.42796444 4876707.67039821 4876707.58662396 ...\n",
      "   4876708.02289454 4876707.37930767 4876708.16519971]\n",
      "  ...\n",
      "  [4876707.70156396 4876708.37652758 4876708.18973839 ...\n",
      "   4876708.3498383  4876707.48553673 4876707.67055141]\n",
      "  [4876707.90864289 4876707.37816335 4876707.61646582 ...\n",
      "   4876707.96829635 4876707.82660578 4876707.41744972]\n",
      "  [4876707.90776698 4876708.03989285 4876707.79502802 ...\n",
      "   4876707.99683076 4876707.39779766 4876707.38617339]]]\n"
     ]
    }
   ],
   "source": [
    "def loss_SW_unet(y_pred,y_true):\n",
    "    y_pred = tf.reshape(y_pred, [1,*y_pred.shape,1])\n",
    "    y_true = tf.reshape(y_true, [1,*y_true.shape,1])\n",
    "    residual = y_true-y_pred\n",
    "    data_fid = tf.keras.backend.mean(tf.keras.backend.square(y_true-y_pred), axis=-1)\n",
    "    print(\"data_fid=\",tf.keras.backend.get_value(data_fid))\n",
    "    window = tf.reshape(win, [1,*win.shape,1])\n",
    "    mu = tf.reshape(muw, [1,*muw.shape,1,1])\n",
    "    shape_constraint=0\n",
    "    for i in range(6):\n",
    "        shape_constraint+=gamma*mu[:,i,0,0]*\\\n",
    "        (tf.keras.backend.square(\n",
    "            (tf.keras.backend.sum((residual)*window*U[i],axis=(1,2,3)))))/2\n",
    "    shape_constraint/=(96*96)\n",
    "    shape_constraint=tf.keras.backend.expand_dims((tf.keras.backend.expand_dims(shape_constraint, axis=-1)),axis=-1)\n",
    "    print(\"shape_constraint=\",tf.keras.backend.get_value(shape_constraint))\n",
    "    return data_fid+shape_constraint\n",
    "\n",
    "print(\"loss=\",tf.keras.backend.get_value(loss_SW_unet(y_pred,y_true)))"
   ]
  },
  {
   "cell_type": "markdown",
   "metadata": {},
   "source": [
    "### 3. Rewriting Single Window ShapeDecon Loss"
   ]
  },
  {
   "cell_type": "code",
   "execution_count": 52,
   "metadata": {},
   "outputs": [
    {
     "name": "stdout",
     "output_type": "stream",
     "text": [
      "data_fid= [1518.30456921]\n",
      "shape_constraint= [4861589.5406159]\n",
      "loss= [4863107.84518512]\n"
     ]
    }
   ],
   "source": [
    "def loss_SW_keras(y_pred,y_true):\n",
    "    y_pred = tf.reshape(y_pred, [1,*y_pred.shape,1])\n",
    "    y_true = tf.reshape(y_true, [1,*y_true.shape,1])\n",
    "    residual = y_true-y_pred\n",
    "    data_fid = tf.keras.backend.sum(tf.keras.backend.square(y_true-y_pred),axis=(1,2,3))/2.\n",
    "    print(\"data_fid=\",tf.keras.backend.get_value(data_fid))\n",
    "    window = tf.reshape(win, [1,*win.shape,1])\n",
    "    U_tensor = tf.reshape(U, [U.shape[0],1,*U.shape[1:],1])\n",
    "    mu = tf.reshape(muw, [*muw.shape])\n",
    "    shape_constraint=0\n",
    "    for i in range(6):\n",
    "        shape_constraint+=gamma*mu[i]*\\\n",
    "        tf.keras.backend.square(\n",
    "            (tf.keras.backend.sum(residual*window*U_tensor[i],axis=(1,2,3))))/2\n",
    "    print(\"shape_constraint=\",tf.keras.backend.get_value(shape_constraint))\n",
    "    return data_fid+shape_constraint\n",
    "\n",
    "print(\"loss=\",tf.keras.backend.get_value(loss_SW_keras(y_pred,y_true)))"
   ]
  },
  {
   "cell_type": "markdown",
   "metadata": {},
   "source": [
    "### 4. Multi Window SCORE Loss"
   ]
  },
  {
   "cell_type": "code",
   "execution_count": 5,
   "metadata": {},
   "outputs": [
    {
     "name": "stdout",
     "output_type": "stream",
     "text": [
      "data_fid= 1532.8932077213979\n",
      "shape_constraint= 2646.1208671422955\n",
      "loss= 4179.014074863693\n"
     ]
    }
   ],
   "source": [
    "def loss_MW_score(residual):\n",
    "    data_fid = np.linalg.norm(residual)**2/2.\n",
    "    print(\"data_fid=\",data_fid)\n",
    "    shape_constraint = gamma*(np.array(\\\n",
    "            [[mu_ij*((residual*psu_ij).sum())**2\\\n",
    "              for mu_ij,psu_ij in zip(mu_j, psu_j)]\\\n",
    "            for mu_j,psu_j in zip(mus,psu)])/2.).sum()\n",
    "    print(\"shape_constraint=\",shape_constraint)\n",
    "    loss = data_fid+shape_constraint\n",
    "    return loss\n",
    "\n",
    "print(\"loss=\",loss_MW_score(residual))"
   ]
  },
  {
   "cell_type": "markdown",
   "metadata": {},
   "source": [
    "### 5. Multi Window ShapeDecon Loss"
   ]
  },
  {
   "cell_type": "code",
   "execution_count": 6,
   "metadata": {},
   "outputs": [
    {
     "name": "stdout",
     "output_type": "stream",
     "text": [
      "data_fid= [[[0.62095859 0.1543961  0.1188128  ... 0.72973828 0.75477366 0.67996461]\n",
      "  [0.62062014 0.50929613 0.15668238 ... 0.05794295 0.63565033 0.01797836]\n",
      "  [0.64558407 0.16339648 0.38045125 ... 0.0119064  0.47703046 0.47996539]\n",
      "  ...\n",
      "  [0.07559364 0.95912179 0.78733917 ... 0.09940566 0.04430517 0.5981372 ]\n",
      "  [0.39941973 0.39316254 0.63489125 ... 0.11621672 0.97232445 0.00110615]\n",
      "  [0.2089486  0.30982124 0.48215901 ... 0.36285843 0.01370121 0.03027108]]]\n",
      "shape_constraint= [[[5311.56130085]]]\n",
      "loss= [[[5312.18225943 5311.71569694 5311.68011365 ... 5312.29103913\n",
      "   5312.3160745  5312.24126545]\n",
      "  [5312.18192099 5312.07059698 5311.71798323 ... 5311.6192438\n",
      "   5312.19695117 5311.5792792 ]\n",
      "  [5312.20688491 5311.72469732 5311.94175209 ... 5311.57320724\n",
      "   5312.0383313  5312.04126623]\n",
      "  ...\n",
      "  [5311.63689449 5312.52042263 5312.34864001 ... 5311.66070651\n",
      "   5311.60560602 5312.15943805]\n",
      "  [5311.96072058 5311.95446338 5312.1961921  ... 5311.67751757\n",
      "   5312.53362529 5311.562407  ]\n",
      "  [5311.77024944 5311.87112208 5312.04345985 ... 5311.92415927\n",
      "   5311.57500206 5311.59157192]]]\n"
     ]
    }
   ],
   "source": [
    "def loss_MW_unet(y_pred,y_true):\n",
    "    y_pred = tf.reshape(y_pred, [1,*y_pred.shape,1])\n",
    "    y_true = tf.reshape(y_true, [1,*y_true.shape,1])\n",
    "    mu = tf.reshape(mus, [*mus.shape])\n",
    "    residual=y_pred-y_true\n",
    "    data_fid = tf.keras.backend.mean(tf.keras.backend.square(y_true-y_pred), axis=-1)\n",
    "    print(\"data_fid=\",tf.keras.backend.get_value(data_fid))\n",
    "    shape_constraint=0\n",
    "    for i in range(6):\n",
    "        for j in range(27):\n",
    "            shape_constraint+=mu[i,j]*\\\n",
    "            tf.keras.backend.square(\n",
    "                tf.keras.backend.sum(residual*psu[i,j],axis=(1,2,3)))\n",
    "    shape_constraint=shape_constraint*gamma/(n_row*n_col)\n",
    "    shape_constraint=tf.keras.backend.expand_dims((tf.keras.backend.expand_dims(shape_constraint, axis=-1)),axis=-1)\n",
    "    print(\"shape_constraint=\",tf.keras.backend.get_value(shape_constraint))\n",
    "    loss=data_fid+shape_constraint\n",
    "    return loss\n",
    "\n",
    "print(\"loss=\",tf.keras.backend.get_value(loss_MW_unet(y_pred,y_true)))"
   ]
  },
  {
   "cell_type": "markdown",
   "metadata": {},
   "source": [
    "### 6. Rewriting Multi Window ShapeDecon Loss"
   ]
  },
  {
   "cell_type": "code",
   "execution_count": 7,
   "metadata": {},
   "outputs": [
    {
     "name": "stdout",
     "output_type": "stream",
     "text": [
      "data_fid= [1532.89320772]\n",
      "shape_constraint= [2646.12086714]\n",
      "loss= [4179.01407486]\n"
     ]
    }
   ],
   "source": [
    "def loss_MW_keras(y_pred,y_true):\n",
    "    y_pred = tf.reshape(y_pred, [1,*y_pred.shape,1])\n",
    "    y_true = tf.reshape(y_true, [1,*y_true.shape,1])\n",
    "    mu = tf.reshape(mus, [*mus.shape])\n",
    "    psu_tensor = tf.reshape(psu, [*psu.shape[:2],1,*psu.shape[2:],1])\n",
    "    residual=y_pred-y_true\n",
    "    data_fid = tf.keras.backend.sum(tf.keras.backend.square(y_true-y_pred),axis=(1,2,3))/2.\n",
    "    print(\"data_fid=\",tf.keras.backend.get_value(data_fid))\n",
    "    shape_constraint=0\n",
    "    for i in range(6):\n",
    "        for j in range(27):\n",
    "            shape_constraint+=gamma*mu[i,j]*\\\n",
    "            tf.keras.backend.square(\n",
    "                tf.keras.backend.sum(residual*psu_tensor[i,j],axis=(1,2,3)))/2.\n",
    "    print(\"shape_constraint=\",tf.keras.backend.get_value(shape_constraint))\n",
    "    loss=data_fid+shape_constraint\n",
    "    return loss\n",
    "\n",
    "print(\"loss=\",tf.keras.backend.get_value(loss_MW_keras(y_pred,y_true)))"
   ]
  }
 ],
 "metadata": {
  "kernelspec": {
   "display_name": "Python 3.6 (tensorflow)",
   "language": "python",
   "name": "tensorflow"
  },
  "language_info": {
   "codemirror_mode": {
    "name": "ipython",
    "version": 3
   },
   "file_extension": ".py",
   "mimetype": "text/x-python",
   "name": "python",
   "nbconvert_exporter": "python",
   "pygments_lexer": "ipython3",
   "version": "3.6.10"
  }
 },
 "nbformat": 4,
 "nbformat_minor": 4
}
