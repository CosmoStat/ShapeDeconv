{
 "cells": [
  {
   "cell_type": "markdown",
   "metadata": {},
   "source": [
    "# Running SCORE on a Single Image\n",
    "\n",
    "## Import Libraries"
   ]
  },
  {
   "cell_type": "code",
   "execution_count": 25,
   "metadata": {},
   "outputs": [],
   "source": [
    "%matplotlib inline\n",
    "import sys\n",
    "import pickle\n",
    "\n",
    "# Define paths and directories\n",
    "lib_path = '/gpfswork/rech/xdy/uze68md/GitHub/'\n",
    "data_path = '/gpfswork/rech/xdy/uze68md/data/'\n",
    "\n",
    "# Add library path to PYTHONPATH\n",
    "path_alphatransform = lib_path+'alpha-transform'\n",
    "path_score = lib_path+'score'\n",
    "sys.path.insert(0, path_alphatransform)\n",
    "sys.path.insert(0, path_score)\n",
    "\n",
    "# Load libraries\n",
    "from score import score\n",
    "import numpy as np\n",
    "import matplotlib.pyplot as plt"
   ]
  },
  {
   "cell_type": "markdown",
   "metadata": {},
   "source": [
    "## Load Data"
   ]
  },
  {
   "cell_type": "code",
   "execution_count": 26,
   "metadata": {},
   "outputs": [],
   "source": [
    "f = open(data_path+\"cfht_parametric_batch.pkl\", \"rb\")\n",
    "batch = pickle.load(f)\n",
    "f.close()"
   ]
  },
  {
   "cell_type": "code",
   "execution_count": 27,
   "metadata": {},
   "outputs": [
    {
     "name": "stdout",
     "output_type": "stream",
     "text": [
      "flux_radius (3072,)\n",
      "inputs (3072, 64, 64)\n",
      "mag_auto (3072,)\n",
      "ps_cfht (3072, 64, 33)\n",
      "ps_hst (3072, 64, 33)\n",
      "psf_cfht (3072, 128, 65)\n",
      "psf_hst (3072, 128, 65)\n",
      "targets (3072, 64, 64)\n",
      "attributes (3072, 2)\n",
      "inputs_noiseless (3072, 64, 64, 1)\n",
      "inputs_cfht (3072, 128, 128)\n",
      "inputs_tikho (3072, 64, 64)\n",
      "windows (3072, 64, 64)\n",
      "windows_flag (3072,)\n",
      "targets_mom (2, 3072)\n",
      "target_ell (2, 3072)\n"
     ]
    }
   ],
   "source": [
    "for key in batch:\n",
    "    print(key, batch[key].shape)"
   ]
  },
  {
   "cell_type": "code",
   "execution_count": 28,
   "metadata": {},
   "outputs": [],
   "source": [
    "gals_obs = batch['inputs'][batch['windows_flag']][:2]\n",
    "psfs = np.array([np.fft.ifftshift(np.fft.irfft2(p, s=[64,64])) for p in batch['psf_cfht'][batch['windows_flag']][:2]])\n",
    "psf_hst = np.fft.ifftshift(np.fft.irfft2(batch['psf_hst'][0], s=[64,64]))"
   ]
  },
  {
   "cell_type": "markdown",
   "metadata": {},
   "source": [
    "## Initialize SCORE"
   ]
  },
  {
   "cell_type": "code",
   "execution_count": 29,
   "metadata": {},
   "outputs": [],
   "source": [
    "#initiate instances of score\n",
    "#set the value of gamma\n",
    "g1 = score(gamma=1)"
   ]
  },
  {
   "cell_type": "markdown",
   "metadata": {},
   "source": [
    "## Run SCORE"
   ]
  },
  {
   "cell_type": "code",
   "execution_count": 30,
   "metadata": {},
   "outputs": [
    {
     "name": "stdout",
     "output_type": "stream",
     "text": [
      "Running restoration...\n",
      "RESTORATION PROCESS DONE\n",
      "Running diagnostic...\n",
      "starlets generation    2.00000\n",
      "beta                   0.23508\n",
      "k                      4.00000\n",
      "gamma                  1.00000\n",
      "RIP                    0.00000\n",
      "tolerance              0.00000\n",
      "halt criterion         0.00000\n",
      "# of iterations        150.00000\n",
      "total # of iterations  150.00000\n",
      "RESTORATION PROCESS INITIATED\n",
      "Initializing variables...\n",
      "Running restoration...\n",
      "RESTORATION PROCESS DONE\n",
      "Running diagnostic...\n",
      "starlets generation    2.00000\n",
      "beta                   0.23324\n",
      "k                      4.00000\n",
      "gamma                  1.00000\n",
      "RIP                    0.00000\n",
      "tolerance              0.00000\n",
      "halt criterion         0.00000\n",
      "# of iterations        150.00000\n",
      "total # of iterations  150.00000\n"
     ]
    }
   ],
   "source": [
    "#loop\n",
    "sol_g1 = []\n",
    "\n",
    "for obs, psf in zip(gals_obs,psfs):\n",
    "    #deconvolve\n",
    "    g1.deconvolve(obs=obs,psf=psf)\n",
    "    sol_g1 += [g1.solution]"
   ]
  },
  {
   "cell_type": "code",
   "execution_count": 31,
   "metadata": {},
   "outputs": [
    {
     "data": {
      "text/plain": [
       "<matplotlib.colorbar.Colorbar at 0x14f856069550>"
      ]
     },
     "execution_count": 31,
     "metadata": {},
     "output_type": "execute_result"
    },
    {
     "data": {
      "image/png": "[encoded data removed]",
      "text/plain": [
       "<Figure size 432x288 with 2 Axes>"
      ]
     },
     "metadata": {
      "needs_background": "light"
     },
     "output_type": "display_data"
    }
   ],
   "source": [
    "plt.imshow(np.fft.ifftshift(psf_hst));plt.colorbar()"
   ]
  },
  {
   "cell_type": "code",
   "execution_count": 32,
   "metadata": {},
   "outputs": [
    {
     "data": {
      "text/plain": [
       "<matplotlib.colorbar.Colorbar at 0x14f855f98890>"
      ]
     },
     "execution_count": 32,
     "metadata": {},
     "output_type": "execute_result"
    },
    {
     "data": {
      "image/png": "[encoded data removed]",
      "text/plain": [
       "<Figure size 432x288 with 2 Axes>"
      ]
     },
     "metadata": {
      "needs_background": "light"
     },
     "output_type": "display_data"
    }
   ],
   "source": [
    "plt.imshow(np.fft.ifftshift(psfs[1]));plt.colorbar()"
   ]
  },
  {
   "cell_type": "code",
   "execution_count": null,
   "metadata": {},
   "outputs": [],
   "source": []
  }
 ],
 "metadata": {
  "kernelspec": {
   "display_name": "Python 3",
   "language": "python",
   "name": "python3"
  },
  "language_info": {
   "codemirror_mode": {
    "name": "ipython",
    "version": 3
   },
   "file_extension": ".py",
   "mimetype": "text/x-python",
   "name": "python",
   "nbconvert_exporter": "python",
   "pygments_lexer": "ipython3",
   "version": "3.7.5"
  }
 },
 "nbformat": 4,
 "nbformat_minor": 4
}
